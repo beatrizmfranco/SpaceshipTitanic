{
 "cells": [
  {
   "cell_type": "code",
   "execution_count": 0,
   "metadata": {
    "application/vnd.databricks.v1+cell": {
     "cellMetadata": {
      "byteLimit": 2048000,
      "rowLimit": 10000
     },
     "inputWidgets": {},
     "nuid": "c1f71418-ef4a-4465-9f9d-59704f8a3292",
     "showTitle": false,
     "title": ""
    }
   },
   "outputs": [],
   "source": [
    "import pyspark.sql.functions as F\n",
    "from pyspark.sql.functions import col\n",
    "import pandas as pd\n",
    "import numpy as np\n",
    "import matplotlib.pyplot as plt\n",
    "from pyspark.sql import SparkSession \n",
    "\n",
    "spark = (SparkSession.builder.appName(\"Spaceship Titanic\").config('spark.sql.repl.eagerEval.enabled', True).getOrCreate())"
   ]
  },
  {
   "cell_type": "code",
   "execution_count": 0,
   "metadata": {
    "application/vnd.databricks.v1+cell": {
     "cellMetadata": {
      "byteLimit": 2048000,
      "rowLimit": 10000
     },
     "inputWidgets": {},
     "nuid": "3c789632-cb1a-470d-8d31-f43488a80866",
     "showTitle": false,
     "title": ""
    }
   },
   "outputs": [],
   "source": [
    "df = spark.sql('select * from spaceship_titanic')\n",
    "df = df.toPandas()"
   ]
  },
  {
   "cell_type": "code",
   "execution_count": 0,
   "metadata": {
    "application/vnd.databricks.v1+cell": {
     "cellMetadata": {
      "byteLimit": 2048000,
      "rowLimit": 10000
     },
     "inputWidgets": {},
     "nuid": "276ab05f-4268-474b-8e0f-4b4c516c4f12",
     "showTitle": true,
     "title": "Variáveis"
    },
    "jupyter": {
     "source_hidden": true
    }
   },
   "outputs": [
    {
     "output_type": "stream",
     "name": "stdout",
     "output_type": "stream",
     "text": [
      "<class 'pandas.core.frame.DataFrame'>\nRangeIndex: 8693 entries, 0 to 8692\nData columns (total 14 columns):\n #   Column        Non-Null Count  Dtype  \n---  ------        --------------  -----  \n 0   PassengerId   8693 non-null   object \n 1   HomePlanet    8492 non-null   object \n 2   CryoSleep     8476 non-null   object \n 3   Cabin         8494 non-null   object \n 4   Destination   8511 non-null   object \n 5   Age           8514 non-null   float32\n 6   VIP           8490 non-null   object \n 7   RoomService   8512 non-null   float32\n 8   FoodCourt     8510 non-null   float32\n 9   ShoppingMall  8485 non-null   float32\n 10  Spa           8510 non-null   float32\n 11  VRDeck        8505 non-null   float32\n 12  Name          8493 non-null   object \n 13  Transported   8693 non-null   bool   \ndtypes: bool(1), float32(6), object(7)\nmemory usage: 687.8+ KB\n"
     ]
    }
   ],
   "source": [
    "df.info()"
   ]
  },
  {
   "cell_type": "code",
   "execution_count": 0,
   "metadata": {
    "application/vnd.databricks.v1+cell": {
     "cellMetadata": {
      "byteLimit": 2048000,
      "rowLimit": 10000
     },
     "inputWidgets": {},
     "nuid": "a7826775-7c6c-4b15-8b5c-eb5c69f01143",
     "showTitle": true,
     "title": "% de nulos em cada variável  "
    }
   },
   "outputs": [
    {
     "output_type": "stream",
     "name": "stdout",
     "output_type": "stream",
     "text": [
      "CryoSleep       2.56%\nShoppingMall    2.45%\nVIP             2.39%\nHomePlanet      2.37%\nName            2.35%\nCabin           2.34%\nVRDeck          2.21%\nFoodCourt       2.15%\nSpa             2.15%\nDestination     2.14%\nRoomService     2.13%\nAge             2.10%\nPassengerId     0.00%\nTransported     0.00%\ndtype: object\n"
     ]
    }
   ],
   "source": [
    "porc_nulos = (df.isnull().sum()/df.count()).sort_values(ascending = False) \n",
    "porc_nulos2 = porc_nulos.map(lambda x: \"{:.2%}\".format(x))\n",
    "print(porc_nulos2)"
   ]
  },
  {
   "cell_type": "markdown",
   "metadata": {
    "application/vnd.databricks.v1+cell": {
     "cellMetadata": {},
     "inputWidgets": {},
     "nuid": "309832cd-1c7c-4e19-9e19-0d8a3d543853",
     "showTitle": false,
     "title": ""
    }
   },
   "source": [
    "## Funções auxiliares: "
   ]
  },
  {
   "cell_type": "code",
   "execution_count": 0,
   "metadata": {
    "application/vnd.databricks.v1+cell": {
     "cellMetadata": {
      "byteLimit": 2048000,
      "rowLimit": 10000
     },
     "inputWidgets": {},
     "nuid": "b0fdeb96-efd0-4a85-bb66-bed09815eab8",
     "showTitle": true,
     "title": "Cria gráfico de barras para variavel booleana selecionada"
    }
   },
   "outputs": [],
   "source": [
    "def graf_barras(variavel,df):\n",
    "    df_aux = df.fillna('Sem Info').groupby(variavel, dropna = False).count().reset_index().sort_values(by='PassengerId')\n",
    "    df_aux[variavel] = df_aux[variavel].astype(str)\n",
    "    plt.bar(df_aux[variavel], df_aux['PassengerId'])\n",
    "    plt.ylabel = 'Quantidade de Passageiros'\n",
    "    plt.xlabel = variavel\n",
    "    # plt.title('Quantidade de passageiros que elegeram ou não o CryoSleep')\n",
    "    lista_qtd = df_aux['PassengerId'].tolist()\n",
    "\n",
    "    for i, quantidade in enumerate(lista_qtd):    \n",
    "        plt.annotate(str(quantidade), xy = (i, quantidade), ha = 'center', va = 'bottom')\n",
    "    return plt.show()"
   ]
  },
  {
   "cell_type": "code",
   "execution_count": 0,
   "metadata": {
    "application/vnd.databricks.v1+cell": {
     "cellMetadata": {
      "byteLimit": 2048000,
      "rowLimit": 10000
     },
     "inputWidgets": {},
     "nuid": "6e9307fe-8c26-4948-8d4f-ba982840f581",
     "showTitle": true,
     "title": "Grafico de Stacked Bar para a variavel selecionada"
    }
   },
   "outputs": [],
   "source": [
    "def graf_stack(variavel, df):\n",
    "    df_aux = df.fillna('Sem Info').groupby(variavel, dropna = False).count().reset_index().sort_values(by='PassengerId')\n",
    "    valores = df_aux[[variavel, 'PassengerId']]\n",
    "    valores['Porcentagem'] = (valores['PassengerId'] / valores['PassengerId'].sum())\n",
    "    # valores['Porcentagem'] = valores['Porcentagem'].map(lambda x: '{:.2%}'.format(x))\n",
    "    valores = valores[[variavel, 'Porcentagem']]\n",
    "    fig, ax = plt.subplots()\n",
    "    valores.set_index(variavel).T.plot(kind='bar', stacked=True, ax=ax)\n",
    "    # plt.title('Porcentagem de passageiros que elegeram ou não o CryoSleep - Soma 100%')\n",
    "    return plt.show()"
   ]
  },
  {
   "cell_type": "markdown",
   "metadata": {
    "application/vnd.databricks.v1+cell": {
     "cellMetadata": {},
     "inputWidgets": {},
     "nuid": "f2745b1c-f8a3-4f57-a1bf-97d425131f29",
     "showTitle": false,
     "title": ""
    }
   },
   "source": [
    "## Análise Univariada"
   ]
  },
  {
   "cell_type": "markdown",
   "metadata": {
    "application/vnd.databricks.v1+cell": {
     "cellMetadata": {},
     "inputWidgets": {},
     "nuid": "7ea0e945-ee9e-45b5-8a5c-5a5f045d00d6",
     "showTitle": false,
     "title": ""
    }
   },
   "source": [
    "### CryoSleep\n",
    "Indicates whether the passenger elected to be put into suspended animation for the duration of the voyage. Passengers in cryosleep are confined to their cabins."
   ]
  },
  {
   "cell_type": "code",
   "execution_count": 0,
   "metadata": {
    "application/vnd.databricks.v1+cell": {
     "cellMetadata": {
      "byteLimit": 2048000,
      "rowLimit": 10000
     },
     "inputWidgets": {},
     "nuid": "32d614cf-22fd-445e-808b-ccf31887b4aa",
     "showTitle": false,
     "title": ""
    }
   },
   "outputs": [
    {
     "output_type": "display_data",
     "data": {
      "image/png": "[encoded data removed]"
     },
     "metadata": {
      "application/vnd.databricks.v1+output": {
       "addedWidgets": {},
       "arguments": {},
       "data": "data:image/png;base64,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\n",
       "datasetInfos": [],
       "metadata": {},
       "removedWidgets": [],
       "type": "image"
      }
     },
     "output_type": "display_data"
    }
   ],
   "source": [
    "graf_barras('CryoSleep', df)\n",
    "    "
   ]
  },
  {
   "cell_type": "markdown",
   "metadata": {
    "application/vnd.databricks.v1+cell": {
     "cellMetadata": {},
     "inputWidgets": {},
     "nuid": "67d7abcd-165c-420f-861b-6af6ea8ac155",
     "showTitle": false,
     "title": ""
    }
   },
   "source": [
    "## VIP"
   ]
  },
  {
   "cell_type": "code",
   "execution_count": 0,
   "metadata": {
    "application/vnd.databricks.v1+cell": {
     "cellMetadata": {
      "byteLimit": 2048000,
      "rowLimit": 10000
     },
     "inputWidgets": {},
     "nuid": "5ceb91be-4969-40a2-bb5a-b3b023776286",
     "showTitle": false,
     "title": ""
    }
   },
   "outputs": [
    {
     "output_type": "stream",
     "name": "stderr",
     "output_type": "stream",
     "text": [
      "<command-1201796995892757>:4: SettingWithCopyWarning: \nA value is trying to be set on a copy of a slice from a DataFrame.\nTry using .loc[row_indexer,col_indexer] = value instead\n\nSee the caveats in the documentation: https://pandas.pydata.org/pandas-docs/stable/user_guide/indexing.html#returning-a-view-versus-a-copy\n  valores['Porcentagem'] = (valores['PassengerId'] / valores['PassengerId'].sum())\n"
     ]
    },
    {
     "output_type": "display_data",
     "data": {
      "image/png": "[encoded data removed]"
     },
     "metadata": {
      "application/vnd.databricks.v1+output": {
       "addedWidgets": {},
       "arguments": {},
       "data": "data:image/png;base64,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\n",
       "datasetInfos": [],
       "metadata": {},
       "removedWidgets": [],
       "type": "image"
      }
     },
     "output_type": "display_data"
    }
   ],
   "source": [
    "graf_stack('VIP', df)\n"
   ]
  },
  {
   "cell_type": "code",
   "execution_count": 0,
   "metadata": {
    "application/vnd.databricks.v1+cell": {
     "cellMetadata": {
      "byteLimit": 2048000,
      "rowLimit": 10000
     },
     "inputWidgets": {},
     "nuid": "914e0116-4509-4d44-a681-d083d220e9ef",
     "showTitle": false,
     "title": ""
    }
   },
   "outputs": [
    {
     "output_type": "display_data",
     "data": {
      "image/png": "[encoded data removed]"
     },
     "metadata": {
      "application/vnd.databricks.v1+output": {
       "addedWidgets": {},
       "arguments": {},
       "data": "data:image/png;base64,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\n",
       "datasetInfos": [],
       "metadata": {},
       "removedWidgets": [],
       "type": "image"
      }
     },
     "output_type": "display_data"
    }
   ],
   "source": [
    "graf_barras('VIP',df)"
   ]
  },
  {
   "cell_type": "code",
   "execution_count": 0,
   "metadata": {
    "application/vnd.databricks.v1+cell": {
     "cellMetadata": {},
     "inputWidgets": {},
     "nuid": "3ff61870-ffed-4871-872a-0155aebabdd8",
     "showTitle": false,
     "title": ""
    }
   },
   "outputs": [],
   "source": []
  }
 ],
 "metadata": {
  "application/vnd.databricks.v1+notebook": {
   "dashboards": [],
   "language": "python",
   "notebookMetadata": {
    "pythonIndentUnit": 4
   },
   "notebookName": "Untitled Notebook 2024-02-16 15:19:32",
   "widgets": {}
  }
 },
 "nbformat": 4,
 "nbformat_minor": 0
}
